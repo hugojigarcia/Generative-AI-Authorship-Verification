{
 "cells": [
  {
   "cell_type": "markdown",
   "metadata": {},
   "source": [
    "4. Modelos Contrastivos (CLIP-like)\n",
    "Entrena un modelo basado en contraste, donde el objetivo es minimizar la distancia entre embeddings de texto humano y maximizar la distancia entre humano y generado por IA.\n",
    "\n",
    "Ventajas:\n",
    "\n",
    "Permite aprender representaciones robustas.\n",
    "Se puede usar junto con un clasificador simple para la predicción final.\n",
    "Ejemplo de entrenamiento contrastivo:"
   ]
  },
  {
   "cell_type": "code",
   "execution_count": null,
   "metadata": {},
   "outputs": [],
   "source": [
    "from torch.nn.functional import cosine_similarity\n",
    "\n",
    "def contrastive_loss(embeddings1, embeddings2, labels, margin=0.5):\n",
    "    sim = cosine_similarity(embeddings1, embeddings2)\n",
    "    loss = torch.mean(labels * (1 - sim) + (1 - labels) * torch.clamp(sim - margin, min=0))\n",
    "    return loss"
   ]
  }
 ],
 "metadata": {
  "kernelspec": {
   "display_name": "venv",
   "language": "python",
   "name": "python3"
  },
  "language_info": {
   "codemirror_mode": {
    "name": "ipython",
    "version": 3
   },
   "file_extension": ".py",
   "mimetype": "text/x-python",
   "name": "python",
   "nbconvert_exporter": "python",
   "pygments_lexer": "ipython3",
   "version": "3.10.6"
  }
 },
 "nbformat": 4,
 "nbformat_minor": 2
}
